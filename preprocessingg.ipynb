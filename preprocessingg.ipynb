{
  "nbformat": 4,
  "nbformat_minor": 0,
  "metadata": {
    "colab": {
      "provenance": []
    },
    "kernelspec": {
      "name": "python3",
      "display_name": "Python 3"
    },
    "language_info": {
      "name": "python"
    }
  },
  "cells": [
    {
      "cell_type": "markdown",
      "source": [
        "instal component"
      ],
      "metadata": {
        "id": "ATELbwri7Nkj"
      }
    },
    {
      "cell_type": "code",
      "execution_count": null,
      "metadata": {
        "colab": {
          "base_uri": "https://localhost:8080/"
        },
        "id": "QBLQfV4I6Nia",
        "outputId": "67d2edb7-03a6-4285-f41b-f6c32a70073c"
      },
      "outputs": [
        {
          "output_type": "stream",
          "name": "stdout",
          "text": [
            "Requirement already satisfied: openpyxl in /usr/local/lib/python3.10/dist-packages (3.1.5)\n",
            "Requirement already satisfied: et-xmlfile in /usr/local/lib/python3.10/dist-packages (from openpyxl) (1.1.0)\n",
            "Requirement already satisfied: seaborn in /usr/local/lib/python3.10/dist-packages (0.13.1)\n",
            "Requirement already satisfied: matplotlib in /usr/local/lib/python3.10/dist-packages (3.7.1)\n",
            "Requirement already satisfied: numpy!=1.24.0,>=1.20 in /usr/local/lib/python3.10/dist-packages (from seaborn) (1.26.4)\n",
            "Requirement already satisfied: pandas>=1.2 in /usr/local/lib/python3.10/dist-packages (from seaborn) (2.1.4)\n",
            "Requirement already satisfied: contourpy>=1.0.1 in /usr/local/lib/python3.10/dist-packages (from matplotlib) (1.3.0)\n",
            "Requirement already satisfied: cycler>=0.10 in /usr/local/lib/python3.10/dist-packages (from matplotlib) (0.12.1)\n",
            "Requirement already satisfied: fonttools>=4.22.0 in /usr/local/lib/python3.10/dist-packages (from matplotlib) (4.53.1)\n",
            "Requirement already satisfied: kiwisolver>=1.0.1 in /usr/local/lib/python3.10/dist-packages (from matplotlib) (1.4.7)\n",
            "Requirement already satisfied: packaging>=20.0 in /usr/local/lib/python3.10/dist-packages (from matplotlib) (24.1)\n",
            "Requirement already satisfied: pillow>=6.2.0 in /usr/local/lib/python3.10/dist-packages (from matplotlib) (10.4.0)\n",
            "Requirement already satisfied: pyparsing>=2.3.1 in /usr/local/lib/python3.10/dist-packages (from matplotlib) (3.1.4)\n",
            "Requirement already satisfied: python-dateutil>=2.7 in /usr/local/lib/python3.10/dist-packages (from matplotlib) (2.8.2)\n",
            "Requirement already satisfied: pytz>=2020.1 in /usr/local/lib/python3.10/dist-packages (from pandas>=1.2->seaborn) (2024.2)\n",
            "Requirement already satisfied: tzdata>=2022.1 in /usr/local/lib/python3.10/dist-packages (from pandas>=1.2->seaborn) (2024.1)\n",
            "Requirement already satisfied: six>=1.5 in /usr/local/lib/python3.10/dist-packages (from python-dateutil>=2.7->matplotlib) (1.16.0)\n"
          ]
        }
      ],
      "source": [
        "!pip install openpyxl\n",
        "!pip install seaborn matplotlib\n",
        "import pandas as pd\n",
        "import numpy as np\n",
        "import matplotlib.pyplot as plt\n",
        "import seaborn as sns\n"
      ]
    },
    {
      "cell_type": "markdown",
      "source": [
        "load dataset"
      ],
      "metadata": {
        "id": "sbo_H-4q7KDa"
      }
    },
    {
      "cell_type": "code",
      "source": [
        "file_path = '/content/dataKasus-1.xlsx'\n",
        "df = pd.read_excel(file_path, sheet_name='2022')\n",
        "\n",
        "# Tampilkan beberapa baris pertama dataset\n",
        "print(df.head())\n"
      ],
      "metadata": {
        "colab": {
          "base_uri": "https://localhost:8080/"
        },
        "id": "hgzZvrA-7JHb",
        "outputId": "1a422dd7-c527-41d4-83b9-9658d71c26fd"
      },
      "execution_count": null,
      "outputs": [
        {
          "output_type": "stream",
          "name": "stdout",
          "text": [
            "   NO    NAMA   USIA  PARITAS JARAK KELAHIRAN RIW HIPERTENSI RIW PE OBESITAS  \\\n",
            "0   1  NAMA 1  23 TH        3       < 2 tahun          Tidak  Tidak    Tidak   \n",
            "1   2  NAMA 2  29 TH        2       < 2 tahun          Tidak    PEB    Tidak   \n",
            "2   3  NAMA 3  20 TH        1    anak pertama          Tidak  Tidak    Tidak   \n",
            "3   4  NAMA 4  18 TH        1    anak pertama          Tidak  Tidak    Tidak   \n",
            "4   5  NAMA 5  34 TH        3      > 2 tahun           Tidak  Tidak    Tidak   \n",
            "\n",
            "  RIW DM RIW HIPERTENSI/PE DALAM KELUARGA SOSEK RENDAH PE/Non PE Unnamed: 12  \n",
            "0     Ya                            Tidak         >UMR    Non PE         NaN  \n",
            "1  Tidak                              Ada         >UMR        PE         NaN  \n",
            "2  Tidak                            Tidak         >UMR    Non PE         NaN  \n",
            "3  Tidak                            Tidak         >UMR    Non PE         NaN  \n",
            "4  Tidak                            Tidak         >UMR    Non PE         NaN  \n"
          ]
        }
      ]
    },
    {
      "cell_type": "markdown",
      "source": [
        "pembersihan dataset"
      ],
      "metadata": {
        "id": "22jJQhL-7bRE"
      }
    },
    {
      "cell_type": "code",
      "source": [
        "df_cleaned = df.drop(columns=['NO', 'Unnamed: 12'])\n"
      ],
      "metadata": {
        "id": "frZjO_zw7V5l"
      },
      "execution_count": null,
      "outputs": []
    },
    {
      "cell_type": "code",
      "source": [
        "df_cleaned['USIA'] = df_cleaned['USIA'].str.extract('(\\d+)').astype(float)\n",
        "\n",
        "# Mengganti nilai NaN dengan nilai rata-rata usia\n",
        "df_cleaned['USIA'].fillna(df_cleaned['USIA'].mean(), inplace=True)\n",
        "df_cleaned['USIA'] = df_cleaned['USIA'].astype(int)\n"
      ],
      "metadata": {
        "id": "S8H2bMPy7gJH"
      },
      "execution_count": null,
      "outputs": []
    },
    {
      "cell_type": "markdown",
      "source": [
        "Mengonversi Kolom Kategorikal"
      ],
      "metadata": {
        "id": "o_A0-ilf7v8a"
      }
    },
    {
      "cell_type": "code",
      "source": [
        "# Mengganti nilai 'Ya'/'Tidak' dan lainnya ke format Boolean atau kategori\n",
        "replace_map = {\n",
        "    'RIW HIPERTENSI': {'Ya': True, 'Tidak': False},\n",
        "    'RIW PE OBESITAS': {'Ya': True, 'Tidak': False},\n",
        "    'RIW DM': {'Ya': True, 'Tidak': False},\n",
        "    'RIW HIPERTENSI/PE DALAM KELUARGA': {'Ada': True, 'Tidak': False},\n",
        "    'SOSEK RENDAH': {'<UMR': 'Low', '>UMR': 'High'},\n",
        "    'PE/Non PE': {'PE': 'PE', 'Non PE': 'Non_PE'}\n",
        "}\n",
        "\n",
        "df_cleaned.replace(replace_map, inplace=True)\n"
      ],
      "metadata": {
        "id": "zhaRe5Ri7l9b"
      },
      "execution_count": null,
      "outputs": []
    },
    {
      "cell_type": "markdown",
      "source": [
        "Mengatasi Nilai Hilang (Missing Values)"
      ],
      "metadata": {
        "id": "aeGyG7gU767x"
      }
    },
    {
      "cell_type": "code",
      "source": [
        "# Cek jumlah nilai yang hilang\n",
        "missing_values = df_cleaned.isnull().sum()\n",
        "print('Nilai yang hilang di setiap kolom:')\n",
        "print(missing_values)\n",
        "\n",
        "# Mengatasi nilai hilang (misal: mengisi dengan modus untuk kolom kategorikal)\n",
        "for col in df_cleaned.select_dtypes(include='object').columns:\n",
        "    df_cleaned[col].fillna(df_cleaned[col].mode()[0], inplace=True)\n"
      ],
      "metadata": {
        "colab": {
          "base_uri": "https://localhost:8080/"
        },
        "id": "ThEiPUxG7ys9",
        "outputId": "997c1b30-1294-4531-8e1d-e372d7daa1ac"
      },
      "execution_count": null,
      "outputs": [
        {
          "output_type": "stream",
          "name": "stdout",
          "text": [
            "Nilai yang hilang di setiap kolom:\n",
            "NAMA                                0\n",
            "USIA                                0\n",
            "PARITAS                             0\n",
            "JARAK KELAHIRAN                     7\n",
            "RIW HIPERTENSI                      0\n",
            "RIW PE                              0\n",
            "OBESITAS                            0\n",
            "RIW DM                              0\n",
            "RIW HIPERTENSI/PE DALAM KELUARGA    0\n",
            "SOSEK RENDAH                        0\n",
            "PE/Non PE                           0\n",
            "dtype: int64\n"
          ]
        }
      ]
    },
    {
      "cell_type": "markdown",
      "source": [
        "Membuat Kolom Baru"
      ],
      "metadata": {
        "id": "mDXSD-qS8FTc"
      }
    },
    {
      "cell_type": "code",
      "source": [
        "def categorize_age(age):\n",
        "    if age < 20:\n",
        "        return 'Remaja'\n",
        "    elif 20 <= age < 30:\n",
        "        return 'Dewasa Muda'\n",
        "    elif 30 <= age < 40:\n",
        "        return 'Dewasa'\n",
        "    else:\n",
        "        return 'Lanjut Usia'\n",
        "\n",
        "df_cleaned['Kategori Usia'] = df_cleaned['USIA'].apply(categorize_age)\n"
      ],
      "metadata": {
        "id": "e5Cj4kFi8EIy"
      },
      "execution_count": null,
      "outputs": []
    },
    {
      "cell_type": "markdown",
      "source": [
        "Transformasi Data\n"
      ],
      "metadata": {
        "id": "dFaS8go58Pt7"
      }
    },
    {
      "cell_type": "code",
      "source": [
        "from sklearn.preprocessing import LabelEncoder\n",
        "\n",
        "# Label encoding untuk kolom kategorikal\n",
        "label_enc_cols = ['SOSEK RENDAH', 'PE/Non PE', 'Kategori Usia']\n",
        "le = LabelEncoder()\n",
        "\n",
        "for col in label_enc_cols:\n",
        "    df_cleaned[col] = le.fit_transform(df_cleaned[col])\n"
      ],
      "metadata": {
        "id": "FPprLtDn8RTa"
      },
      "execution_count": null,
      "outputs": []
    },
    {
      "cell_type": "markdown",
      "source": [
        "Normalisasi Fitur Numerik"
      ],
      "metadata": {
        "id": "oVdv7Jbe8XR7"
      }
    },
    {
      "cell_type": "code",
      "source": [
        "from sklearn.preprocessing import MinMaxScaler\n",
        "\n",
        "scaler = MinMaxScaler()\n",
        "numerical_cols = ['USIA', 'PARITAS']\n",
        "\n",
        "df_cleaned[numerical_cols] = scaler.fit_transform(df_cleaned[numerical_cols])\n"
      ],
      "metadata": {
        "id": "Ty4SzXH38YpS"
      },
      "execution_count": null,
      "outputs": []
    },
    {
      "cell_type": "markdown",
      "source": [
        "visualisasi data"
      ],
      "metadata": {
        "id": "1kmrsYXl8gtE"
      }
    },
    {
      "cell_type": "code",
      "source": [
        "print(df_cleaned['Kategori Usia'].unique())\n"
      ],
      "metadata": {
        "colab": {
          "base_uri": "https://localhost:8080/"
        },
        "id": "0mQVNLOD8na9",
        "outputId": "4602fb38-6610-43d7-d95d-27816f844b45"
      },
      "execution_count": null,
      "outputs": [
        {
          "output_type": "stream",
          "name": "stdout",
          "text": [
            "[1 3 0 2]\n"
          ]
        }
      ]
    },
    {
      "cell_type": "code",
      "source": [
        "# Korelasi antar fitur\n",
        "plt.figure(figsize=(10, 6))\n",
        "sns.heatmap(df_cleaned.drop(columns=['NAMA', 'Kategori Usia']).select_dtypes(include=np.number).corr(), annot=True, cmap='viridis')\n",
        "plt.title('Heatmap Korelasi Fitur')\n",
        "plt.show()\n",
        "\n",
        "# Distribusi kategori usia\n",
        "sns.countplot(x='Kategori Usia', data=df_cleaned)\n",
        "plt.title('Distribusi Kategori Usia')\n",
        "plt.show()"
      ],
      "metadata": {
        "colab": {
          "base_uri": "https://localhost:8080/",
          "height": 958
        },
        "id": "fMJHz0VX9-Ge",
        "outputId": "41707450-7054-40d5-b8bb-acfad212156c"
      },
      "execution_count": null,
      "outputs": [
        {
          "output_type": "display_data",
          "data": {
            "text/plain": [
              "<Figure size 1000x600 with 2 Axes>"
            ],
            "image/png": "[encoded data removed]"
          },
          "metadata": {}
        },
        {
          "output_type": "display_data",
          "data": {
            "text/plain": [
              "<Figure size 640x480 with 1 Axes>"
            ],
            "image/png": "[encoded data removed]"
          },
          "metadata": {}
        }
      ]
    }
  ]
}